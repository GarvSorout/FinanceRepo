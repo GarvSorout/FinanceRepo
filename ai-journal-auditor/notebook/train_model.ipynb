{
 "cells": [
  {
   "cell_type": "code",
   "execution_count": 1,
   "metadata": {},
   "outputs": [],
   "source": [
    "# Step 1: Imports\n",
    "import pandas as pd\n",
    "from sklearn.ensemble import IsolationForest\n",
    "from sklearn.preprocessing import OneHotEncoder, StandardScaler\n",
    "from sklearn.compose import ColumnTransformer\n",
    "from sklearn.pipeline import Pipeline\n",
    "import joblib"
   ]
  },
  {
   "cell_type": "code",
   "execution_count": 7,
   "metadata": {},
   "outputs": [],
   "source": [
    "# Step 2: Load dataset\n",
    "df = pd.read_csv(\"/Users/garvsorout/FinanceRepo/ai-journal-auditor/data/journal_entries.csv\")  \n",
    "\n"
   ]
  },
  {
   "cell_type": "code",
   "execution_count": 11,
   "metadata": {},
   "outputs": [],
   "source": [
    "# Feature engineering\n",
    "df[\"Hour\"] = pd.to_datetime(df[\"Timestamp\"]).dt.hour\n",
    "\n",
    "features = df[[\"Account\", \"Debit/Credit\", \"Amount\", \"Preparer\", \"Approver\", \"Hour\"]].copy()\n",
    "\n",
    "from sklearn.model_selection import train_test_split\n",
    "\n",
    "# Train/test split (no labels, unsupervised!)\n",
    "X_train, X_test = train_test_split(features, test_size=0.2, random_state=42)"
   ]
  },
  {
   "cell_type": "code",
   "execution_count": 12,
   "metadata": {},
   "outputs": [],
   "source": [
    "# Preprocessing pipeline\n",
    "categorical_features = [\"Account\", \"Debit/Credit\", \"Preparer\", \"Approver\"]\n",
    "numeric_features = [\"Amount\", \"Hour\"]\n",
    "\n",
    "preprocessor = ColumnTransformer(\n",
    "    transformers=[\n",
    "        (\"cat\", OneHotEncoder(handle_unknown=\"ignore\"), categorical_features),\n",
    "        (\"num\", StandardScaler(), numeric_features)\n",
    "    ]\n",
    ")"
   ]
  },
  {
   "cell_type": "code",
   "execution_count": 13,
   "metadata": {},
   "outputs": [],
   "source": [
    "# Step 5: Build pipeline\n",
    "pipeline = Pipeline([\n",
    "    (\"preprocessor\", preprocessor),\n",
    "    (\"model\", IsolationForest(n_estimators=100, contamination=0.05, random_state=42))\n",
    "])"
   ]
  },
  {
   "cell_type": "code",
   "execution_count": 15,
   "metadata": {},
   "outputs": [
    {
     "name": "stdout",
     "output_type": "stream",
     "text": [
      "           Date      Time           Account Debit/Credit   Amount  \\\n",
      "45   2025-04-03  23:10:59  Accounts Payable        Debit   488.57   \n",
      "165  2025-04-01  23:56:40  Accounts Payable        Debit  8905.71   \n",
      "93   2025-03-30  05:33:13     Sales Revenue       Credit   169.14   \n",
      "\n",
      "                                           Description         Preparer  \\\n",
      "45   Its rock finish paper memory history office ef...      Noah Rhodes   \n",
      "165              Such during open model how financial.  Gabrielle Davis   \n",
      "93                    Society organization station TV.  Cristian Santos   \n",
      "\n",
      "            Approver            Timestamp  Hour  AnomalyScore  IsAnomaly  \n",
      "45        Gina Moore  2025-04-03 23:10:59    23            -1       True  \n",
      "165  Connie Lawrence  2025-04-01 23:56:40    23            -1       True  \n",
      "93   Connie Lawrence  2025-03-30 05:33:13     5            -1       True  \n"
     ]
    }
   ],
   "source": [
    "# Train only on X_train\n",
    "pipeline.fit(X_train)\n",
    "\n",
    "# Predict on test set\n",
    "df_test = df.iloc[X_test.index].copy()\n",
    "df_test[\"AnomalyScore\"] = pipeline.predict(X_test)\n",
    "df_test[\"IsAnomaly\"] = df_test[\"AnomalyScore\"] == -1\n",
    "\n",
    "# Save flagged anomalies from test set\n",
    "df_test[df_test[\"IsAnomaly\"] == True].to_csv(\"/Users/garvsorout/FinanceRepo/ai-journal-auditor/data/test_flagged_anomalies.csv\", index=False)\n",
    "\n",
    "# Inspect a few\n",
    "print(df_test[df_test[\"IsAnomaly\"] == True].head())"
   ]
  },
  {
   "cell_type": "code",
   "execution_count": 16,
   "metadata": {},
   "outputs": [
    {
     "name": "stdout",
     "output_type": "stream",
     "text": [
      "✅ Model saved to model/audit_model.pkl\n"
     ]
    }
   ],
   "source": [
    "# Save the trained pipeline (preprocessing + model)\n",
    "joblib.dump(pipeline, \"/Users/garvsorout/FinanceRepo/ai-journal-auditor/model/audit_model.pkl\")\n",
    "print(\"✅ Model saved to model/audit_model.pkl\")"
   ]
  },
  {
   "cell_type": "code",
   "execution_count": null,
   "metadata": {},
   "outputs": [],
   "source": []
  }
 ],
 "metadata": {
  "kernelspec": {
   "display_name": "venv",
   "language": "python",
   "name": "python3"
  },
  "language_info": {
   "codemirror_mode": {
    "name": "ipython",
    "version": 3
   },
   "file_extension": ".py",
   "mimetype": "text/x-python",
   "name": "python",
   "nbconvert_exporter": "python",
   "pygments_lexer": "ipython3",
   "version": "3.9.0"
  }
 },
 "nbformat": 4,
 "nbformat_minor": 2
}
